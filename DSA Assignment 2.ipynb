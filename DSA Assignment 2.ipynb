{
 "cells": [
  {
   "cell_type": "markdown",
   "id": "99f3b91b",
   "metadata": {},
   "source": [
    "+ ID : _***DBU1601374***_   \n",
    "+ ame: **Mesfin Haileslassie Abebe**  \n",
    "+ Department:**Computer Science**\n",
    "+ github Address :https://github.com/Mesfinchacha   "
   ]
  },
  {
   "cell_type": "markdown",
   "id": "56d274d7",
   "metadata": {},
   "source": [
    "### Bubble sort for sorting Students By ID\n",
    " #### **Bubble Sort :**\n",
    " - is a simple sorting algorithm that repeatedly steps through the list, compares adjacent elements,<br> and swaps them if they are in the wrong order.     \n",
    " - This version sorts the list based on the given key (default is \"id\").<br> It continues until no more swaps are needed, meaning the list is sorted.  \n",
    " - It has the following time complexities\n",
    "     * Best case: O(n) – when the list is already sorted, and no swaps are needed.        \n",
    "     * Average case: O(n²) – compares and swaps elements multiple times.    \n",
    "     * Worst case: O(n²) – when the list is sorted in reverse order.     "
   ]
  },
  {
   "cell_type": "code",
   "execution_count": 10,
   "id": "71cb870e",
   "metadata": {},
   "outputs": [
    {
     "name": "stdout",
     "output_type": "stream",
     "text": [
      "Sorted Data by Id\n",
      "{'id': 'DBU1601002', 'Name': 'Gebeyehu', 'Department': 'CS', 'CGPA': 3.1}\n",
      "{'id': 'DBU1601010', 'Name': 'Masesha', 'Department': 'SE', 'CGPA': 2.95}\n",
      "{'id': 'DBU1601116', 'Name': 'Belay', 'Department': 'DS', 'CGPA': 3.4}\n",
      "{'id': 'DBU1601195', 'Name': 'Worku', 'Department': 'IT', 'CGPA': 2.55}\n",
      "{'id': 'DBU1601200', 'Name': 'Mekonen', 'Department': 'DS', 'CGPA': 3.85}\n",
      "{'id': 'DBU1601214', 'Name': 'Abel', 'Department': 'IS', 'CGPA': 3.66}\n",
      "{'id': 'DBU1601248', 'Name': 'Asfaw', 'Department': 'CS', 'CGPA': 3.01}\n",
      "{'id': 'DBU1601325', 'Name': 'Abebe', 'Department': 'CS', 'CGPA': 3.82}\n",
      "{'id': 'DBU1601356', 'Name': 'Sisay', 'Department': 'IS', 'CGPA': 3.8}\n",
      "{'id': 'DBU1601374', 'Name': 'Kebede', 'Department': 'CS', 'CGPA': 3.75}\n",
      "{'id': 'DBU1601389', 'Name': 'Alemayehu', 'Department': 'DS', 'CGPA': 2.74}\n",
      "{'id': 'DBU1601407', 'Name': 'Zekarias', 'Department': 'SE', 'CGPA': 3.89}\n",
      "{'id': 'DBU1601503', 'Name': 'Abrham', 'Department': 'CS', 'CGPA': 3.12}\n",
      "{'id': 'DBU1601512', 'Name': 'Alemu', 'Department': 'DS', 'CGPA': 3.34}\n"
     ]
    }
   ],
   "source": [
    "def bubble_sort():\n",
    "    student_list = [\n",
    "        {\"id\":\"DBU1601374\", \"Name\": \"Kebede\", \"Department\": \"CS\", \"CGPA\": 3.75},\n",
    "        {\"id\":\"DBU1601325\", \"Name\": \"Abebe\", \"Department\": \"CS\", \"CGPA\": 3.82},\n",
    "        {\"id\":\"DBU1601200\", \"Name\": \"Mekonen\", \"Department\": \"DS\", \"CGPA\": 3.85},\n",
    "        {\"id\":\"DBU1601356\", \"Name\": \"Sisay\", \"Department\": \"IS\", \"CGPA\": 3.8},\n",
    "        {\"id\":\"DBU1601512\", \"Name\": \"Alemu\", \"Department\": \"DS\", \"CGPA\": 3.34},\n",
    "        {\"id\":\"DBU1601503\", \"Name\": \"Abrham\", \"Department\": \"CS\", \"CGPA\": 3.12},\n",
    "        {\"id\":\"DBU1601389\", \"Name\": \"Alemayehu\", \"Department\": \"DS\", \"CGPA\": 2.74},\n",
    "        {\"id\":\"DBU1601002\", \"Name\": \"Gebeyehu\", \"Department\": \"CS\", \"CGPA\": 3.10},\n",
    "        {\"id\":\"DBU1601407\", \"Name\": \"Zekarias\", \"Department\": \"SE\", \"CGPA\": 3.89},\n",
    "        {\"id\":\"DBU1601195\", \"Name\": \"Worku\", \"Department\": \"IT\", \"CGPA\": 2.55},\n",
    "        {\"id\":\"DBU1601214\", \"Name\": \"Abel\", \"Department\": \"IS\", \"CGPA\": 3.66},\n",
    "        {\"id\":\"DBU1601248\", \"Name\": \"Asfaw\", \"Department\": \"CS\", \"CGPA\": 3.01},\n",
    "        {\"id\":\"DBU1601116\", \"Name\": \"Belay\", \"Department\": \"DS\", \"CGPA\": 3.40},\n",
    "        {\"id\":\"DBU1601010\", \"Name\": \"Masesha\", \"Department\": \"SE\", \"CGPA\": 2.95}\n",
    "    ]\n",
    "    n = len(student_list)\n",
    "    for i in range(n):\n",
    "        swapped = False\n",
    "        for j in range(0, n-i-1):\n",
    "            if student_list[j][\"id\"] > student_list[j+1][\"id\"]:\n",
    "                student_list[j], student_list[j+1] = student_list[j+1], student_list[j]\n",
    "                swapped = True\n",
    "        if not swapped:\n",
    "            break\n",
    "    return student_list\n",
    "\n",
    "print(\"Sorted Data by Id\")\n",
    "for i in bubble_sort():\n",
    "    print(i)\n"
   ]
  },
  {
   "cell_type": "markdown",
   "id": "a3505349",
   "metadata": {},
   "source": [
    "### Insertion sort for sorting Students By Name\n",
    " #### **Insertion Sort :**\n",
    "- is a simple sorting algorithm that builds the final sorted list one item at a time.   \n",
    "- It takes each element from the unsorted part and places it at the correct position in the sorted part.    \n",
    "- This version sorts the list based on the given key (default is \"Name\").      \n",
    "- It is efficient for small data sets or nearly sorted data and is easy to implement.         \n",
    "- It is a stable sorting algorithm, meaning it maintains the relative order of equal elements.       \n",
    "- It is in-place, so it does not require extra memory.       \n",
    "- It has the following time complexities:       \n",
    "  * Best case: O(n) – when the list is already sorted (only comparisons, no shifts).      \n",
    "  * Average case: O(n²) – when elements are in random order.         \n",
    "  * Worst case: O(n²) – when the list is sorted in reverse order and all elements must be moved.      "
   ]
  },
  {
   "cell_type": "code",
   "execution_count": 11,
   "id": "20a0715f",
   "metadata": {},
   "outputs": [
    {
     "name": "stdout",
     "output_type": "stream",
     "text": [
      "Sorted Data by Name\n",
      "{'id': 'DBU1601325', 'Name': 'Abebe', 'Department': 'CS', 'CGPA': 3.82}\n",
      "{'id': 'DBU1601214', 'Name': 'Abel', 'Department': 'IS', 'CGPA': 3.66}\n",
      "{'id': 'DBU1601503', 'Name': 'Abrham', 'Department': 'CS', 'CGPA': 3.12}\n",
      "{'id': 'DBU1601389', 'Name': 'Alemayehu', 'Department': 'DS', 'CGPA': 2.74}\n",
      "{'id': 'DBU1601512', 'Name': 'Alemu', 'Department': 'DS', 'CGPA': 3.34}\n",
      "{'id': 'DBU1601248', 'Name': 'Asfaw', 'Department': 'CS', 'CGPA': 3.01}\n",
      "{'id': 'DBU1601116', 'Name': 'Belay', 'Department': 'DS', 'CGPA': 3.4}\n",
      "{'id': 'DBU1601002', 'Name': 'Gebeyehu', 'Department': 'CS', 'CGPA': 3.1}\n",
      "{'id': 'DBU1601374', 'Name': 'Kebede', 'Department': 'CS', 'CGPA': 3.75}\n",
      "{'id': 'DBU1601010', 'Name': 'Masesha', 'Department': 'SE', 'CGPA': 2.95}\n",
      "{'id': 'DBU1601200', 'Name': 'Mekonen', 'Department': 'DS', 'CGPA': 3.85}\n",
      "{'id': 'DBU1601356', 'Name': 'Sisay', 'Department': 'IS', 'CGPA': 3.8}\n",
      "{'id': 'DBU1601195', 'Name': 'Worku', 'Department': 'IT', 'CGPA': 2.55}\n",
      "{'id': 'DBU1601407', 'Name': 'Zekarias', 'Department': 'SE', 'CGPA': 3.89}\n"
     ]
    }
   ],
   "source": [
    "def insertion_sort():\n",
    "    student_list = [\n",
    "        {\"id\":\"DBU1601374\", \"Name\": \"Kebede\", \"Department\": \"CS\", \"CGPA\": 3.75},\n",
    "        {\"id\":\"DBU1601325\", \"Name\": \"Abebe\", \"Department\": \"CS\", \"CGPA\": 3.82},\n",
    "        {\"id\":\"DBU1601200\", \"Name\": \"Mekonen\", \"Department\": \"DS\", \"CGPA\": 3.85},\n",
    "        {\"id\":\"DBU1601356\", \"Name\": \"Sisay\", \"Department\": \"IS\", \"CGPA\": 3.8},\n",
    "        {\"id\":\"DBU1601512\", \"Name\": \"Alemu\", \"Department\": \"DS\", \"CGPA\": 3.34},\n",
    "        {\"id\":\"DBU1601503\", \"Name\": \"Abrham\", \"Department\": \"CS\", \"CGPA\": 3.12},\n",
    "        {\"id\":\"DBU1601389\", \"Name\": \"Alemayehu\", \"Department\": \"DS\", \"CGPA\": 2.74},\n",
    "        {\"id\":\"DBU1601002\", \"Name\": \"Gebeyehu\", \"Department\": \"CS\", \"CGPA\": 3.10},\n",
    "        {\"id\":\"DBU1601407\", \"Name\": \"Zekarias\", \"Department\": \"SE\", \"CGPA\": 3.89},\n",
    "        {\"id\":\"DBU1601195\", \"Name\": \"Worku\", \"Department\": \"IT\", \"CGPA\": 2.55},\n",
    "        {\"id\":\"DBU1601214\", \"Name\": \"Abel\", \"Department\": \"IS\", \"CGPA\": 3.66},\n",
    "        {\"id\":\"DBU1601248\", \"Name\": \"Asfaw\", \"Department\": \"CS\", \"CGPA\": 3.01},\n",
    "        {\"id\":\"DBU1601116\", \"Name\": \"Belay\", \"Department\": \"DS\", \"CGPA\": 3.40},\n",
    "        {\"id\":\"DBU1601010\", \"Name\": \"Masesha\", \"Department\": \"SE\", \"CGPA\": 2.95}\n",
    "    ]\n",
    "    for i in range(1, len(student_list)):\n",
    "        current = student_list[i]\n",
    "        j = i - 1\n",
    "        while j >= 0 and current[\"Name\"] < student_list[j][\"Name\"]:\n",
    "            student_list[j+1] = student_list[j]\n",
    "            j -= 1\n",
    "        student_list[j+1] = current\n",
    "    return student_list\n",
    "print(\"Sorted Data by Name\")\n",
    "for student in insertion_sort():\n",
    "    print(student)\n"
   ]
  },
  {
   "cell_type": "markdown",
   "id": "26a9d17e",
   "metadata": {},
   "source": [
    "### Selection sort for sorting By CGPA in Descending order\n",
    " #### **Bubble Sort :**\n",
    "- is a simple comparison-based sorting algorithm.      \n",
    "- It repeatedly finds the minimum (or maximum) element from the unsorted part and puts it at the beginning (or end).    \n",
    "- This version sorts the list based on the given key (default is \"CGPA\").     \n",
    "- It is not stable, because it may change the relative order of equal elements during swapping.     \n",
    "- It is in-place, so it doesn't require additional memory space.    \n",
    "- It has the following time complexities:    \n",
    "  * Best case: O(n²) – because it always scans the entire unsorted portion to find the minimum.    \n",
    "  * Average case: O(n²) – due to repeated scanning and swapping.      \n",
    "  * Worst case: O(n²) – even if the list is already sorted, the algorithm still performs all comparisons.     \n",
    "\n"
   ]
  },
  {
   "cell_type": "code",
   "execution_count": 12,
   "id": "e1ed193f",
   "metadata": {},
   "outputs": [
    {
     "name": "stdout",
     "output_type": "stream",
     "text": [
      "Sorted Data by CGPA in Descending order\n",
      "{'id': 'DBU1601407', 'Name': 'Zekarias', 'Department': 'SE', 'CGPA': 3.89}\n",
      "{'id': 'DBU1601200', 'Name': 'Mekonen', 'Department': 'DS', 'CGPA': 3.85}\n",
      "{'id': 'DBU1601325', 'Name': 'Abebe', 'Department': 'CS', 'CGPA': 3.82}\n",
      "{'id': 'DBU1601356', 'Name': 'Sisay', 'Department': 'IS', 'CGPA': 3.8}\n",
      "{'id': 'DBU1601374', 'Name': 'Kebede', 'Department': 'CS', 'CGPA': 3.75}\n",
      "{'id': 'DBU1601214', 'Name': 'Abel', 'Department': 'IS', 'CGPA': 3.66}\n",
      "{'id': 'DBU1601116', 'Name': 'Belay', 'Department': 'DS', 'CGPA': 3.4}\n",
      "{'id': 'DBU1601512', 'Name': 'Alemu', 'Department': 'DS', 'CGPA': 3.34}\n",
      "{'id': 'DBU1601503', 'Name': 'Abrham', 'Department': 'CS', 'CGPA': 3.12}\n",
      "{'id': 'DBU1601002', 'Name': 'Gebeyehu', 'Department': 'CS', 'CGPA': 3.1}\n",
      "{'id': 'DBU1601248', 'Name': 'Asfaw', 'Department': 'CS', 'CGPA': 3.01}\n",
      "{'id': 'DBU1601010', 'Name': 'Masesha', 'Department': 'SE', 'CGPA': 2.95}\n",
      "{'id': 'DBU1601389', 'Name': 'Alemayehu', 'Department': 'DS', 'CGPA': 2.74}\n",
      "{'id': 'DBU1601195', 'Name': 'Worku', 'Department': 'IT', 'CGPA': 2.55}\n"
     ]
    }
   ],
   "source": [
    "def selection_sort():\n",
    "    student_list = [\n",
    "        {\"id\":\"DBU1601374\", \"Name\": \"Kebede\", \"Department\": \"CS\", \"CGPA\": 3.75},\n",
    "        {\"id\":\"DBU1601325\", \"Name\": \"Abebe\", \"Department\": \"CS\", \"CGPA\": 3.82},\n",
    "        {\"id\":\"DBU1601200\", \"Name\": \"Mekonen\", \"Department\": \"DS\", \"CGPA\": 3.85},\n",
    "        {\"id\":\"DBU1601356\", \"Name\": \"Sisay\", \"Department\": \"IS\", \"CGPA\": 3.8},\n",
    "        {\"id\":\"DBU1601512\", \"Name\": \"Alemu\", \"Department\": \"DS\", \"CGPA\": 3.34},\n",
    "        {\"id\":\"DBU1601503\", \"Name\": \"Abrham\", \"Department\": \"CS\", \"CGPA\": 3.12},\n",
    "        {\"id\":\"DBU1601389\", \"Name\": \"Alemayehu\", \"Department\": \"DS\", \"CGPA\": 2.74},\n",
    "        {\"id\":\"DBU1601002\", \"Name\": \"Gebeyehu\", \"Department\": \"CS\", \"CGPA\": 3.10},\n",
    "        {\"id\":\"DBU1601407\", \"Name\": \"Zekarias\", \"Department\": \"SE\", \"CGPA\": 3.89},\n",
    "        {\"id\":\"DBU1601195\", \"Name\": \"Worku\", \"Department\": \"IT\", \"CGPA\": 2.55},\n",
    "        {\"id\":\"DBU1601214\", \"Name\": \"Abel\", \"Department\": \"IS\", \"CGPA\": 3.66},\n",
    "        {\"id\":\"DBU1601248\", \"Name\": \"Asfaw\", \"Department\": \"CS\", \"CGPA\": 3.01},\n",
    "        {\"id\":\"DBU1601116\", \"Name\": \"Belay\", \"Department\": \"DS\", \"CGPA\": 3.40},\n",
    "        {\"id\":\"DBU1601010\", \"Name\": \"Masesha\", \"Department\": \"SE\", \"CGPA\": 2.95}\n",
    "    ]\n",
    "    for i in range(len(student_list)):\n",
    "        max_idx = i\n",
    "        for j in range(i+1, len(student_list)):\n",
    "            if student_list[j][\"CGPA\"] > student_list[max_idx][\"CGPA\"]:\n",
    "                max_idx = j\n",
    "        student_list[i], student_list[max_idx] = student_list[max_idx], student_list[i]\n",
    "    return student_list\n",
    "print(\"Sorted Data by CGPA in Descending order\")\n",
    "for student in selection_sort():\n",
    "    print(student)\n"
   ]
  },
  {
   "cell_type": "markdown",
   "id": "7bf9066d",
   "metadata": {},
   "source": [
    "### Analysis\n",
    "#### **Summary of Sorting Algorithm Analysis**\n",
    "- Bubble Sort is simple but slow. It’s good only for small lists and can detect if the list is already sorted.     \n",
    "- Insertion Sort is efficient for small or nearly sorted data. It's stable and works well with dictionary data.    \n",
    "- Selection Sort is easy to understand but always performs the same number of comparisons,    \n",
    " making it slower overall     .\n",
    "For dictionary data, Insertion Sort is generally the best     \n",
    "among the three because it keeps the order of equal items and does fewer swaps.    \n",
    "#### Advantage\n",
    "- Simple to understand and implement.\n",
    "- Detects early if the list is already sorted (optimized version).   \n",
    "#### Disadvantages:\n",
    "- Inefficient for large lists.\n",
    "- Does many unnecessary swaps, which slows it down.\n",
    " Insertion Sort\n",
    "#### Advantage\n",
    "- Works well with small or nearly sorted lists.\n",
    "- Stable sort: keeps the order of items with equal keys.\n",
    "- Easy to adapt for sorting by different keys in dictionaries.\n",
    "#### Disadvantages:\n",
    "- Still slow for large, unsorted datasets (O(n²)).\n",
    " Selection Sort\n",
    "#### Advantage\n",
    "- Easy to understand.\n",
    "- Always makes the minimum number of swaps (good when swapping is costly).\n",
    "#### Disadvantages:\n",
    "- Inefficient for large lists.\n",
    "- Not stable: equal items may be reordered.\n",
    "- Always does the same number of comparisons, even if already sorted."
   ]
  },
  {
   "cell_type": "markdown",
   "id": "6072b101",
   "metadata": {},
   "source": [
    "# THANK YOU !!!!!!"
   ]
  }
 ],
 "metadata": {
  "kernelspec": {
   "display_name": "Python 3",
   "language": "python",
   "name": "python3"
  },
  "language_info": {
   "codemirror_mode": {
    "name": "ipython",
    "version": 3
   },
   "file_extension": ".py",
   "mimetype": "text/x-python",
   "name": "python",
   "nbconvert_exporter": "python",
   "pygments_lexer": "ipython3",
   "version": "3.13.0"
  }
 },
 "nbformat": 4,
 "nbformat_minor": 5
}
